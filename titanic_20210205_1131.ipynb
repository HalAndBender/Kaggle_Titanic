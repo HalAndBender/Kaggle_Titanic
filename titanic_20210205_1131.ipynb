{
 "cells": [
  {
   "cell_type": "code",
   "execution_count": null,
   "metadata": {},
   "outputs": [],
   "source": []
  },
  {
   "cell_type": "markdown",
   "metadata": {},
   "source": [
    "# Overview"
   ]
  },
  {
   "cell_type": "code",
   "execution_count": 1,
   "metadata": {},
   "outputs": [],
   "source": [
    "# importing the datasets\n",
    "import pandas as pd\n",
    "\n",
    "# the training data\n",
    "df_titanic = pd.read_csv('titanic/train.csv')\n",
    "# The test data\n",
    "test_data = pd.read_csv('titanic/test.csv')"
   ]
  },
  {
   "cell_type": "code",
   "execution_count": 2,
   "metadata": {},
   "outputs": [
    {
     "name": "stdout",
     "output_type": "stream",
     "text": [
      "<class 'pandas.core.frame.DataFrame'>\n",
      "RangeIndex: 891 entries, 0 to 890\n",
      "Data columns (total 12 columns):\n",
      " #   Column       Non-Null Count  Dtype  \n",
      "---  ------       --------------  -----  \n",
      " 0   PassengerId  891 non-null    int64  \n",
      " 1   Survived     891 non-null    int64  \n",
      " 2   Pclass       891 non-null    int64  \n",
      " 3   Name         891 non-null    object \n",
      " 4   Sex          891 non-null    object \n",
      " 5   Age          714 non-null    float64\n",
      " 6   SibSp        891 non-null    int64  \n",
      " 7   Parch        891 non-null    int64  \n",
      " 8   Ticket       891 non-null    object \n",
      " 9   Fare         891 non-null    float64\n",
      " 10  Cabin        204 non-null    object \n",
      " 11  Embarked     889 non-null    object \n",
      "dtypes: float64(2), int64(5), object(5)\n",
      "memory usage: 83.7+ KB\n"
     ]
    }
   ],
   "source": [
    "# getting an overview over the training data\n",
    "df_titanic.info()"
   ]
  },
  {
   "cell_type": "markdown",
   "metadata": {},
   "source": [
    "'Survived' is the response variate."
   ]
  },
  {
   "cell_type": "markdown",
   "metadata": {},
   "source": [
    "Deciding on relevant features:df_titanic\n",
    "- 'Pclass':passengers in higher class are perhaps located closer to the upper decks\n",
    "- 'Sex': men and women may behave differently in emergency situations\n",
    "- 'Age': age may be a determining factor when trying to survive in cold water\n",
    "- 'SibSp': preoccupation with helping siblings our spouses may influence chance of survival\n",
    "- 'Parch': preoccupation with helping parents our children may influence chance of survival\n",
    "- 'Ticket': purchasing behaviour may be linked to survival chances\n",
    "- 'Fare': most likely correlated to Pclass, but remains in here for same reason\n",
    "- 'Cabin': cabin numbers may be distributed in a certain way over the ship\n",
    "- 'Embarked': may be correlated to cabin numbers"
   ]
  },
  {
   "cell_type": "markdown",
   "metadata": {},
   "source": [
    "We drop  'Name' and 'PassengerId' and 'Ticket' as useless feature."
   ]
  },
  {
   "cell_type": "code",
   "execution_count": 3,
   "metadata": {},
   "outputs": [],
   "source": [
    "# dropping  'Name' and 'PassengerId' as useless features\n",
    "\n",
    "df_titanic1 = df_titanic.drop(columns=['Name', 'PassengerId', 'Ticket'])\n",
    "test_data1 = test_data.drop(columns=['Name', 'PassengerId', 'Ticket'])"
   ]
  },
  {
   "cell_type": "markdown",
   "metadata": {},
   "source": [
    "We need to encode 'Sex', 'Cabin' and 'Embarked of the passengers"
   ]
  },
  {
   "cell_type": "markdown",
   "metadata": {},
   "source": [
    "The variable 'cabin' contains information about the decks that passengers were accomodated in.\n",
    "Deck A is highest up in the ship, while deck F ist the lowest passenger deck. <br>\n",
    "The 'Tank' deck, with letter 'T' sits below the passenger decks in the ship.<br>\n",
    "We will drop the information about which specific room the passengers were accomodated, but will maintain the deck information.<br>\n",
    "Unfortunally, there is cabin information only for 204 of 891 passengers available."
   ]
  },
  {
   "cell_type": "code",
   "execution_count": 4,
   "metadata": {},
   "outputs": [],
   "source": [
    "# stripping away the cabin number\n",
    "# but maintaining the deck name\n",
    "df_titanic1['Cabin'] = df_titanic1['Cabin'].str.slice(stop=1)"
   ]
  },
  {
   "cell_type": "code",
   "execution_count": 5,
   "metadata": {},
   "outputs": [],
   "source": [
    "# encoding nominal and categorical features\n",
    "df_titanic2 = pd.get_dummies(df_titanic1[['Sex', 'Cabin', 'Embarked']], drop_first=True)"
   ]
  },
  {
   "cell_type": "code",
   "execution_count": 6,
   "metadata": {},
   "outputs": [
    {
     "data": {
      "text/html": [
       "<div>\n",
       "<style scoped>\n",
       "    .dataframe tbody tr th:only-of-type {\n",
       "        vertical-align: middle;\n",
       "    }\n",
       "\n",
       "    .dataframe tbody tr th {\n",
       "        vertical-align: top;\n",
       "    }\n",
       "\n",
       "    .dataframe thead th {\n",
       "        text-align: right;\n",
       "    }\n",
       "</style>\n",
       "<table border=\"1\" class=\"dataframe\">\n",
       "  <thead>\n",
       "    <tr style=\"text-align: right;\">\n",
       "      <th></th>\n",
       "      <th>Sex_male</th>\n",
       "      <th>Cabin_B</th>\n",
       "      <th>Cabin_C</th>\n",
       "      <th>Cabin_D</th>\n",
       "      <th>Cabin_E</th>\n",
       "      <th>Cabin_F</th>\n",
       "      <th>Cabin_G</th>\n",
       "      <th>Cabin_T</th>\n",
       "      <th>Embarked_Q</th>\n",
       "      <th>Embarked_S</th>\n",
       "    </tr>\n",
       "  </thead>\n",
       "  <tbody>\n",
       "    <tr>\n",
       "      <th>0</th>\n",
       "      <td>1</td>\n",
       "      <td>0</td>\n",
       "      <td>0</td>\n",
       "      <td>0</td>\n",
       "      <td>0</td>\n",
       "      <td>0</td>\n",
       "      <td>0</td>\n",
       "      <td>0</td>\n",
       "      <td>0</td>\n",
       "      <td>1</td>\n",
       "    </tr>\n",
       "    <tr>\n",
       "      <th>1</th>\n",
       "      <td>0</td>\n",
       "      <td>0</td>\n",
       "      <td>1</td>\n",
       "      <td>0</td>\n",
       "      <td>0</td>\n",
       "      <td>0</td>\n",
       "      <td>0</td>\n",
       "      <td>0</td>\n",
       "      <td>0</td>\n",
       "      <td>0</td>\n",
       "    </tr>\n",
       "    <tr>\n",
       "      <th>2</th>\n",
       "      <td>0</td>\n",
       "      <td>0</td>\n",
       "      <td>0</td>\n",
       "      <td>0</td>\n",
       "      <td>0</td>\n",
       "      <td>0</td>\n",
       "      <td>0</td>\n",
       "      <td>0</td>\n",
       "      <td>0</td>\n",
       "      <td>1</td>\n",
       "    </tr>\n",
       "    <tr>\n",
       "      <th>3</th>\n",
       "      <td>0</td>\n",
       "      <td>0</td>\n",
       "      <td>1</td>\n",
       "      <td>0</td>\n",
       "      <td>0</td>\n",
       "      <td>0</td>\n",
       "      <td>0</td>\n",
       "      <td>0</td>\n",
       "      <td>0</td>\n",
       "      <td>1</td>\n",
       "    </tr>\n",
       "    <tr>\n",
       "      <th>4</th>\n",
       "      <td>1</td>\n",
       "      <td>0</td>\n",
       "      <td>0</td>\n",
       "      <td>0</td>\n",
       "      <td>0</td>\n",
       "      <td>0</td>\n",
       "      <td>0</td>\n",
       "      <td>0</td>\n",
       "      <td>0</td>\n",
       "      <td>1</td>\n",
       "    </tr>\n",
       "  </tbody>\n",
       "</table>\n",
       "</div>"
      ],
      "text/plain": [
       "   Sex_male  Cabin_B  Cabin_C  Cabin_D  Cabin_E  Cabin_F  Cabin_G  Cabin_T  \\\n",
       "0         1        0        0        0        0        0        0        0   \n",
       "1         0        0        1        0        0        0        0        0   \n",
       "2         0        0        0        0        0        0        0        0   \n",
       "3         0        0        1        0        0        0        0        0   \n",
       "4         1        0        0        0        0        0        0        0   \n",
       "\n",
       "   Embarked_Q  Embarked_S  \n",
       "0           0           1  \n",
       "1           0           0  \n",
       "2           0           1  \n",
       "3           0           1  \n",
       "4           0           1  "
      ]
     },
     "execution_count": 6,
     "metadata": {},
     "output_type": "execute_result"
    }
   ],
   "source": [
    "df_titanic2.head()"
   ]
  },
  {
   "cell_type": "code",
   "execution_count": 7,
   "metadata": {},
   "outputs": [],
   "source": [
    "# merging the enconded frame with the other features\n",
    "df_titanic = df_titanic1.join(df_titanic2, how='outer')"
   ]
  },
  {
   "cell_type": "code",
   "execution_count": 8,
   "metadata": {},
   "outputs": [],
   "source": [
    "# selecting the columns that are needed\n",
    "df_titanic = df_titanic[['Survived',\n",
    " 'Pclass',\n",
    " 'Age',\n",
    " 'SibSp',\n",
    " 'Parch',\n",
    " 'Fare',\n",
    " 'Sex_male',\n",
    " 'Cabin_B',\n",
    " 'Cabin_C',\n",
    " 'Cabin_D',\n",
    " 'Cabin_E',\n",
    " 'Cabin_F',\n",
    " 'Cabin_G',\n",
    " 'Cabin_T',\n",
    " 'Embarked_Q',\n",
    " 'Embarked_S']]"
   ]
  },
  {
   "cell_type": "code",
   "execution_count": 9,
   "metadata": {},
   "outputs": [
    {
     "name": "stdout",
     "output_type": "stream",
     "text": [
      "<class 'pandas.core.frame.DataFrame'>\n",
      "Int64Index: 891 entries, 0 to 890\n",
      "Data columns (total 16 columns):\n",
      " #   Column      Non-Null Count  Dtype  \n",
      "---  ------      --------------  -----  \n",
      " 0   Survived    891 non-null    int64  \n",
      " 1   Pclass      891 non-null    int64  \n",
      " 2   Age         714 non-null    float64\n",
      " 3   SibSp       891 non-null    int64  \n",
      " 4   Parch       891 non-null    int64  \n",
      " 5   Fare        891 non-null    float64\n",
      " 6   Sex_male    891 non-null    uint8  \n",
      " 7   Cabin_B     891 non-null    uint8  \n",
      " 8   Cabin_C     891 non-null    uint8  \n",
      " 9   Cabin_D     891 non-null    uint8  \n",
      " 10  Cabin_E     891 non-null    uint8  \n",
      " 11  Cabin_F     891 non-null    uint8  \n",
      " 12  Cabin_G     891 non-null    uint8  \n",
      " 13  Cabin_T     891 non-null    uint8  \n",
      " 14  Embarked_Q  891 non-null    uint8  \n",
      " 15  Embarked_S  891 non-null    uint8  \n",
      "dtypes: float64(2), int64(4), uint8(10)\n",
      "memory usage: 89.7 KB\n"
     ]
    }
   ],
   "source": [
    "df_titanic.info()"
   ]
  },
  {
   "cell_type": "markdown",
   "metadata": {},
   "source": [
    "## Removing the 'Age' Nan rows from the training set"
   ]
  },
  {
   "cell_type": "markdown",
   "metadata": {},
   "source": [
    "We drop about 20% of the training data, because they contain NaN values"
   ]
  },
  {
   "cell_type": "code",
   "execution_count": 10,
   "metadata": {},
   "outputs": [],
   "source": [
    "# dropping the rows that contain NaN values, \n",
    "df_titanic = df_titanic.dropna()#axis=0, how='any', thresh=None, subset=None, inplace=False)[source]"
   ]
  },
  {
   "cell_type": "code",
   "execution_count": 11,
   "metadata": {},
   "outputs": [],
   "source": [
    "# partition the dataset into separate test and training datasets randomly\n",
    "from sklearn.model_selection import train_test_split\n",
    "\n",
    "# assign Numpy array representation of feature columns to variable X\n",
    "# and assign Numpy array representation of class labels of first column to variable y\n",
    "X, y = df_titanic.iloc[:, 1:].values, df_titanic.iloc[:, 0].values \n",
    "\n",
    "# encoding the class labels (good practice)\n",
    "from sklearn.preprocessing import LabelEncoder\n",
    "le = LabelEncoder()\n",
    "y = le.fit_transform(y)\n",
    "\n",
    "X_train, X_test, y_train, y_test =\\\n",
    "    train_test_split(X, y, \n",
    "                     test_size=0.3,  # set to 0.3 for 30% of examples to test, 70% to train \n",
    "                     random_state=0, \n",
    "                     stratify=y) # ensuring that both test and training dataset have same class proportions as orignal dataset"
   ]
  },
  {
   "cell_type": "markdown",
   "metadata": {},
   "source": [
    "Standardization turns out to not be useful here. It may also be left out."
   ]
  },
  {
   "cell_type": "code",
   "execution_count": 12,
   "metadata": {},
   "outputs": [],
   "source": [
    "# Standardization \n",
    "# center the feature columns to mean 0 with standard deviation 1 > standard normal distribution\n",
    "from sklearn.preprocessing import StandardScaler\n",
    "\n",
    "stdsc = StandardScaler()\n",
    "X_train_std = stdsc.fit_transform(X_train)\n",
    "X_test_std = stdsc.transform(X_test)"
   ]
  },
  {
   "cell_type": "code",
   "execution_count": 13,
   "metadata": {},
   "outputs": [],
   "source": [
    "# # Standardization of features is not required (does not improve prediction)\n",
    "# X_train_std = X_train\n",
    "# X_test_std = X_test"
   ]
  },
  {
   "cell_type": "markdown",
   "metadata": {},
   "source": [
    "## Ranking features with random forest"
   ]
  },
  {
   "cell_type": "code",
   "execution_count": 14,
   "metadata": {},
   "outputs": [
    {
     "name": "stdout",
     "output_type": "stream",
     "text": [
      " 1) Age                            0.269856\n",
      " 2) Fare                           0.250145\n",
      " 3) Sex_male                       0.203148\n",
      " 4) Pclass                         0.094882\n",
      " 5) SibSp                          0.049042\n",
      " 6) Parch                          0.046710\n",
      " 7) Embarked_S                     0.022688\n",
      " 8) Cabin_D                        0.015893\n",
      " 9) Cabin_E                        0.011957\n",
      "10) Cabin_B                        0.010510\n",
      "11) Cabin_C                        0.010063\n",
      "12) Embarked_Q                     0.007091\n",
      "13) Cabin_F                        0.004083\n",
      "14) Cabin_G                        0.002871\n",
      "15) Cabin_T                        0.001062\n"
     ]
    },
    {
     "data": {
      "image/png": "[encoded data removed]",
      "text/plain": [
       "<Figure size 432x288 with 1 Axes>"
      ]
     },
     "metadata": {
      "needs_background": "light"
     },
     "output_type": "display_data"
    }
   ],
   "source": [
    "# Rankig the features with random forest\n",
    "import matplotlib.pyplot as plt\n",
    "import numpy as np\n",
    "from sklearn.ensemble import RandomForestClassifier\n",
    "\n",
    "feat_labels = df_titanic.columns[1:]\n",
    "\n",
    "forest = RandomForestClassifier(n_estimators=500,\n",
    "                                random_state=1)\n",
    "\n",
    "forest.fit(X_train_std, y_train)\n",
    "importances = forest.feature_importances_\n",
    "\n",
    "indices = np.argsort(importances)[::-1]\n",
    "\n",
    "for f in range(X_train_std.shape[1]):\n",
    "    print(\"%2d) %-*s %f\" % (f + 1, 30, \n",
    "                            feat_labels[indices[f]], \n",
    "                            importances[indices[f]]))\n",
    "\n",
    "plt.title('Feature Importance')\n",
    "plt.bar(range(X_train_std.shape[1]), \n",
    "        importances[indices],\n",
    "        align='center')\n",
    "\n",
    "plt.xticks(range(X_train_std.shape[1]), \n",
    "           feat_labels[indices], rotation=90)\n",
    "plt.xlim([-1, X_train_std.shape[1]])\n",
    "plt.tight_layout()\n",
    "#plt.savefig('images/04_09.png', dpi=300)\n",
    "plt.show()"
   ]
  },
  {
   "cell_type": "markdown",
   "metadata": {},
   "source": [
    "The top 3 features may be enough to build a model. We may decide to include a few more features though."
   ]
  },
  {
   "cell_type": "markdown",
   "metadata": {},
   "source": [
    "## Selecting the features"
   ]
  },
  {
   "cell_type": "code",
   "execution_count": 15,
   "metadata": {},
   "outputs": [
    {
     "name": "stdout",
     "output_type": "stream",
     "text": [
      "Number of features that meet this threshold criterion: 6\n"
     ]
    }
   ],
   "source": [
    "# selecting the features threshold \n",
    "from sklearn.feature_selection import SelectFromModel\n",
    "\n",
    "sfm = SelectFromModel(forest, \n",
    "                      threshold=0.03, # specify threshold here to change number of features\n",
    "                      prefit=True)\n",
    "X_train_selected = sfm.transform(X_train_std)\n",
    "X_test_selected = sfm.transform(X_test_std)\n",
    "\n",
    "print('Number of features that meet this threshold criterion:', \n",
    "      X_train_selected.shape[1])"
   ]
  },
  {
   "cell_type": "code",
   "execution_count": 16,
   "metadata": {},
   "outputs": [
    {
     "name": "stdout",
     "output_type": "stream",
     "text": [
      " 1) Age                            0.269856\n",
      " 2) Fare                           0.250145\n",
      " 3) Sex_male                       0.203148\n",
      " 4) Pclass                         0.094882\n",
      " 5) SibSp                          0.049042\n",
      " 6) Parch                          0.046710\n"
     ]
    }
   ],
   "source": [
    "# viewing the selected features\n",
    "for f in range(X_train_selected.shape[1]):\n",
    "    print(\"%2d) %-*s %f\" % (f + 1, 30, \n",
    "                            feat_labels[indices[f]], \n",
    "                            importances[indices[f]]))"
   ]
  },
  {
   "cell_type": "markdown",
   "metadata": {},
   "source": [
    "## Training a first model with Ensemble"
   ]
  },
  {
   "cell_type": "code",
   "execution_count": 17,
   "metadata": {},
   "outputs": [
    {
     "name": "stdout",
     "output_type": "stream",
     "text": [
      "10-fold cross validation:\n",
      "\n",
      "ROC AUC: 0.85 (+/- 0.06) [Logistic regression]\n",
      "ROC AUC: 0.84 (+/- 0.06) [Decision tree]\n",
      "ROC AUC: 0.87 (+/- 0.06) [KNN]\n",
      "ROC AUC: 0.85 (+/- 0.06) [SVM]\n",
      "ROC AUC: 0.85 (+/- 0.05) [kernel SVM]\n",
      "ROC AUC: 0.85 (+/- 0.05) [Random Forest]\n"
     ]
    }
   ],
   "source": [
    "# Implementing the MajorityVoteClassiefier in sklearn\n",
    "\n",
    "import numpy as np\n",
    "from sklearn.preprocessing import StandardScaler\n",
    "\n",
    "# classifiers\n",
    "from sklearn.linear_model import LogisticRegression\n",
    "from sklearn.tree import DecisionTreeClassifier\n",
    "from sklearn.neighbors import KNeighborsClassifier\n",
    "from sklearn.svm import SVC\n",
    "from sklearn.ensemble import RandomForestClassifier\n",
    "\n",
    "from sklearn.pipeline import Pipeline\n",
    "from sklearn.model_selection import cross_val_score\n",
    "\n",
    "# we train three different classifiers:\n",
    "\n",
    "clf1 = LogisticRegression(penalty='l2',    # alternatives 'l1' ,'l2'\n",
    "                          C=100,           # values from 0.001 to 100000 or higher\n",
    "                          solver='lbfgs',  # alternatives: 'newton-cg', 'lbfgs', 'liblinear', 'sag', 'saga'\n",
    "                                           # for multi-class multi_class='multinominal' or'ovr'\n",
    "                          random_state=1)\n",
    "\n",
    "clf2 = DecisionTreeClassifier(max_depth=3,\n",
    "                              criterion='entropy',\n",
    "                              random_state=0)\n",
    "\n",
    " \n",
    "clf3 = KNeighborsClassifier(n_neighbors=18,\n",
    "                            p=2, #p=2=Euclidean distance, p=1=Manhatten distance\n",
    "                            metric='minkowski')\n",
    "\n",
    "clf4 = SVC(kernel='linear', \n",
    "          C=0.01, # ROC can be uped to 0.85 with C=1000 here\n",
    "          random_state=1)\n",
    "\n",
    "clf5 = SVC(kernel='rbf',  # radial base function\n",
    "           random_state=1, \n",
    "           gamma=0.1, \n",
    "           C=0.001)  \n",
    "\n",
    "clf6 = RandomForestClassifier(criterion='gini', # Gini impurity measure to split the nodes\n",
    "                                n_estimators=25, # number of decision trees 25\n",
    "                                random_state=1,\n",
    "                                n_jobs=2) # using two cores of our computer (parallelizing the trainig)\n",
    "\n",
    "\n",
    "pipe1 = Pipeline([['sc', StandardScaler()],\n",
    "                  ['clf', clf1]])\n",
    "pipe3 = Pipeline([['sc', StandardScaler()],\n",
    "                  ['clf', clf3]])\n",
    "pipe4 = Pipeline([['sc', StandardScaler()],\n",
    "                  ['clf', clf4]])\n",
    "pipe5 = Pipeline([['sc', StandardScaler()],\n",
    "                  ['clf', clf5]])\n",
    "pipe6 = Pipeline([['sc', StandardScaler()],\n",
    "                  ['clf', clf5]])\n",
    "\n",
    "clf_labels = ['Logistic regression', 'Decision tree', 'KNN','SVM','kernel SVM','Random Forest']\n",
    "\n",
    "# we evaluate the model perforamce of each classifier via 10-fold cross-validation\n",
    "# on the training dataset:\n",
    "print('10-fold cross validation:\\n')\n",
    "for clf, label in zip([pipe1, clf2, pipe3, pipe4, pipe5, pipe6], clf_labels):\n",
    "    scores = cross_val_score(estimator=clf,\n",
    "                             X=X_train_selected,\n",
    "                             y=y_train,\n",
    "                             cv=10,\n",
    "                             scoring='roc_auc')\n",
    "    print(\"ROC AUC: %0.2f (+/- %0.2f) [%s]\"\n",
    "          % (scores.mean(), scores.std(), label))"
   ]
  },
  {
   "cell_type": "markdown",
   "metadata": {},
   "source": [
    "## Evaluating the outcome of the first model"
   ]
  },
  {
   "cell_type": "code",
   "execution_count": 18,
   "metadata": {},
   "outputs": [
    {
     "data": {
      "image/png": "[encoded data removed]",
      "text/plain": [
       "<Figure size 180x180 with 1 Axes>"
      ]
     },
     "metadata": {
      "needs_background": "light"
     },
     "output_type": "display_data"
    },
    {
     "name": "stdout",
     "output_type": "stream",
     "text": [
      "Test accuracy: 0.8418604651162791\n"
     ]
    }
   ],
   "source": [
    "# Producing a confusion matrix \n",
    "\n",
    "# defining and fitting the model again (it was in a loop before)\n",
    "clf3 = KNeighborsClassifier(n_neighbors=18,\n",
    "                            p=2, #p=2=Euclidean distance, p=1=Manhatten distance\n",
    "                            metric='minkowski')\n",
    "clf3.fit(X_train_selected, y_train)\n",
    "\n",
    "from sklearn.metrics import confusion_matrix\n",
    "\n",
    "# referencing the model\n",
    "model = clf3\n",
    "\n",
    "model.fit(X_train_selected, y_train)\n",
    "y_pred = model.predict(X_test_selected)\n",
    "\n",
    "confmat = confusion_matrix(y_true=y_test, y_pred=y_pred)\n",
    "#print(confmat)\n",
    "\n",
    "# plotting the confusion matrix for easier interpretation\n",
    "import matplotlib.pyplot as plt\n",
    "\n",
    "fig, ax = plt.subplots(figsize=(2.5, 2.5))\n",
    "ax.matshow(confmat, cmap=plt.cm.Blues, alpha=0.3)\n",
    "for i in range(confmat.shape[0]):\n",
    "    for j in range(confmat.shape[1]):\n",
    "        ax.text(x=j, y=i, s=confmat[i, j], va='center', ha='center')\n",
    "\n",
    "plt.xlabel('Predicted label')\n",
    "plt.ylabel('True label')\n",
    "\n",
    "plt.tight_layout()\n",
    "#plt.savefig('images/06_09.png', dpi=300)\n",
    "plt.show()\n",
    "# display test accuracy\n",
    "print('Test accuracy:', model.score(X_test_selected, y_test))"
   ]
  },
  {
   "cell_type": "markdown",
   "metadata": {},
   "source": [
    "Age is a very important feature.<br>\n",
    "<br>\n",
    "However, about 20% of the passengers in the training and test datasets have NaN as their age.<br>\n",
    "We will build a separate training algorithm for the passengers in the two datasets without age."
   ]
  },
  {
   "cell_type": "markdown",
   "metadata": {},
   "source": [
    "Also, for one passenger in the test dataset there is no 'fare' value.<br>\n",
    "We will address this one separately."
   ]
  },
  {
   "cell_type": "code",
   "execution_count": 19,
   "metadata": {},
   "outputs": [
    {
     "name": "stdout",
     "output_type": "stream",
     "text": [
      "<class 'pandas.core.frame.DataFrame'>\n",
      "RangeIndex: 418 entries, 0 to 417\n",
      "Data columns (total 11 columns):\n",
      " #   Column       Non-Null Count  Dtype  \n",
      "---  ------       --------------  -----  \n",
      " 0   PassengerId  418 non-null    int64  \n",
      " 1   Pclass       418 non-null    int64  \n",
      " 2   Name         418 non-null    object \n",
      " 3   Sex          418 non-null    object \n",
      " 4   Age          332 non-null    float64\n",
      " 5   SibSp        418 non-null    int64  \n",
      " 6   Parch        418 non-null    int64  \n",
      " 7   Ticket       418 non-null    object \n",
      " 8   Fare         417 non-null    float64\n",
      " 9   Cabin        91 non-null     object \n",
      " 10  Embarked     418 non-null    object \n",
      "dtypes: float64(2), int64(4), object(5)\n",
      "memory usage: 36.0+ KB\n"
     ]
    }
   ],
   "source": [
    "test_data.info()"
   ]
  },
  {
   "cell_type": "markdown",
   "metadata": {},
   "source": [
    "# Predicting the missing Age data"
   ]
  },
  {
   "cell_type": "markdown",
   "metadata": {},
   "source": [
    "## Preparing the data"
   ]
  },
  {
   "cell_type": "code",
   "execution_count": 20,
   "metadata": {},
   "outputs": [],
   "source": [
    "import pandas as pd\n",
    "\n",
    "# reading the training and test data\n",
    "train = pd.read_csv('titanic/train.csv')\n",
    "test = pd.read_csv('titanic/test.csv')\n",
    "\n",
    "# selecting the relevant columns\n",
    "train = train[['PassengerId','Survived',\"Pclass\", \"Sex\", \"SibSp\", \"Parch\", \"Fare\", \"Age\"]]\n",
    "test = test[['PassengerId',\"Pclass\", \"Sex\", \"SibSp\", \"Parch\", \"Fare\", \"Age\"]]\n",
    "\n",
    "# setting 'PassengerId' as index\n",
    "train = train.set_index('PassengerId')\n",
    "test = test.set_index('PassengerId')\n",
    "\n",
    "# encoding the feature labels of 'Sex'\n",
    "train[\"Sex\"] = [1 if x==\"male\" else 0 for x in train[\"Sex\"]]\n",
    "test[\"Sex\"] = [1 if x==\"male\" else 0 for x in test[\"Sex\"]]\n",
    "\n",
    "# separating rows with and without 'age' in each dataset \n",
    "train_no_age = train[train[\"Age\"].isnull()].drop(\"Age\", 1)\n",
    "train_age = train.dropna()\n",
    "test_no_age = test[test[\"Age\"].isnull()].drop(\"Age\", 1)\n",
    "test_age = test.dropna()\n"
   ]
  },
  {
   "cell_type": "markdown",
   "metadata": {},
   "source": [
    "The test data contains one example that does not have a 'Fare' vale. We will assume that this was an employee and was therefore accomodated on the lower decks and thus did not survive."
   ]
  },
  {
   "cell_type": "code",
   "execution_count": 21,
   "metadata": {},
   "outputs": [
    {
     "data": {
      "text/html": [
       "<div>\n",
       "<style scoped>\n",
       "    .dataframe tbody tr th:only-of-type {\n",
       "        vertical-align: middle;\n",
       "    }\n",
       "\n",
       "    .dataframe tbody tr th {\n",
       "        vertical-align: top;\n",
       "    }\n",
       "\n",
       "    .dataframe thead th {\n",
       "        text-align: right;\n",
       "    }\n",
       "</style>\n",
       "<table border=\"1\" class=\"dataframe\">\n",
       "  <thead>\n",
       "    <tr style=\"text-align: right;\">\n",
       "      <th></th>\n",
       "      <th>Pclass</th>\n",
       "      <th>Sex</th>\n",
       "      <th>SibSp</th>\n",
       "      <th>Parch</th>\n",
       "      <th>Fare</th>\n",
       "      <th>Age</th>\n",
       "    </tr>\n",
       "    <tr>\n",
       "      <th>PassengerId</th>\n",
       "      <th></th>\n",
       "      <th></th>\n",
       "      <th></th>\n",
       "      <th></th>\n",
       "      <th></th>\n",
       "      <th></th>\n",
       "    </tr>\n",
       "  </thead>\n",
       "  <tbody>\n",
       "    <tr>\n",
       "      <th>1044</th>\n",
       "      <td>3</td>\n",
       "      <td>1</td>\n",
       "      <td>0</td>\n",
       "      <td>0</td>\n",
       "      <td>NaN</td>\n",
       "      <td>60.5</td>\n",
       "    </tr>\n",
       "  </tbody>\n",
       "</table>\n",
       "</div>"
      ],
      "text/plain": [
       "             Pclass  Sex  SibSp  Parch  Fare   Age\n",
       "PassengerId                                       \n",
       "1044              3    1      0      0   NaN  60.5"
      ]
     },
     "execution_count": 21,
     "metadata": {},
     "output_type": "execute_result"
    }
   ],
   "source": [
    "# selecting the only person which has no fare or cabin\n",
    "test_no_fare = test[test['Fare'].isnull()]\n",
    "test_no_fare"
   ]
  },
  {
   "cell_type": "markdown",
   "metadata": {},
   "source": [
    "## Declaring the missing fare example for dead"
   ]
  },
  {
   "cell_type": "code",
   "execution_count": 22,
   "metadata": {},
   "outputs": [
    {
     "data": {
      "text/html": [
       "<div>\n",
       "<style scoped>\n",
       "    .dataframe tbody tr th:only-of-type {\n",
       "        vertical-align: middle;\n",
       "    }\n",
       "\n",
       "    .dataframe tbody tr th {\n",
       "        vertical-align: top;\n",
       "    }\n",
       "\n",
       "    .dataframe thead th {\n",
       "        text-align: right;\n",
       "    }\n",
       "</style>\n",
       "<table border=\"1\" class=\"dataframe\">\n",
       "  <thead>\n",
       "    <tr style=\"text-align: right;\">\n",
       "      <th></th>\n",
       "      <th>Survived</th>\n",
       "    </tr>\n",
       "    <tr>\n",
       "      <th>PassengerId</th>\n",
       "      <th></th>\n",
       "    </tr>\n",
       "  </thead>\n",
       "  <tbody>\n",
       "    <tr>\n",
       "      <th>1044</th>\n",
       "      <td>0</td>\n",
       "    </tr>\n",
       "  </tbody>\n",
       "</table>\n",
       "</div>"
      ],
      "text/plain": [
       "             Survived\n",
       "PassengerId          \n",
       "1044                0"
      ]
     },
     "execution_count": 22,
     "metadata": {},
     "output_type": "execute_result"
    }
   ],
   "source": [
    "# declare the passenger without 'Fare' for dead and creating a new df:\n",
    "d = {'PassengerId':[1044],'Survived': [0]}\n",
    "\n",
    "test_no_fare = pd.DataFrame(data=d)\n",
    "\n",
    "test_no_fare = test_no_fare.set_index('PassengerId')\n",
    "test_no_fare"
   ]
  },
  {
   "cell_type": "markdown",
   "metadata": {},
   "source": [
    "To get a better prediction on the age of the passengers we will combine the training with the test data."
   ]
  },
  {
   "cell_type": "code",
   "execution_count": 23,
   "metadata": {},
   "outputs": [
    {
     "data": {
      "text/plain": [
       "1045"
      ]
     },
     "execution_count": 23,
     "metadata": {},
     "output_type": "execute_result"
    }
   ],
   "source": [
    "# joining the two df\n",
    "frames = [train_age, test_age]\n",
    "age = pd.concat(frames)\n",
    "len(age)"
   ]
  },
  {
   "cell_type": "markdown",
   "metadata": {},
   "source": [
    "We now have 1045 examples containing age"
   ]
  },
  {
   "cell_type": "markdown",
   "metadata": {},
   "source": [
    "Traininging the model on all examples (from both datasets):"
   ]
  },
  {
   "cell_type": "markdown",
   "metadata": {},
   "source": [
    "## Training the age predictor"
   ]
  },
  {
   "cell_type": "code",
   "execution_count": 24,
   "metadata": {},
   "outputs": [
    {
     "name": "stdout",
     "output_type": "stream",
     "text": [
      "MSE train: 66.889, test: 170.908\n",
      "R^2 train: 0.660, test: 0.256\n"
     ]
    }
   ],
   "source": [
    "# selecting the data\n",
    "X = age.loc[:, 'Pclass':'Fare'].values\n",
    "y = age.loc[:, 'Age'].values\n",
    "\n",
    "# # encoding the class labels (good practice) (not needed here, since the class labels are already 0 and 1)\n",
    "# from sklearn.preprocessing import LabelEncoder\n",
    "# le = LabelEncoder()\n",
    "# y = le.fit_transform(y)\n",
    "\n",
    "# splitting the data\n",
    "from sklearn.model_selection import train_test_split\n",
    "X_train, X_test, y_train, y_test =\\\n",
    "       train_test_split(X, y, \n",
    "                        test_size=0.3, # this is very small to train on entire dataset\n",
    "                        random_state=1)\n",
    "                        #,stratify=y) # ensures that both training and test datasets have the same class proportions as the original dataset\n",
    "\n",
    "# Standardization\n",
    "from sklearn.preprocessing import StandardScaler\n",
    "stdsc = StandardScaler()\n",
    "X_train_std = stdsc.fit_transform(X_train)\n",
    "X_test_std = stdsc.transform(X_test)\n",
    "\n",
    "\n",
    "from sklearn.ensemble import RandomForestRegressor\n",
    "\n",
    "forest = RandomForestRegressor(n_estimators=1000, \n",
    "                               criterion='mse', \n",
    "                               random_state=1, \n",
    "                               n_jobs=-1) # -1 = using all the processors\n",
    "\n",
    "\n",
    "# fitting the data\n",
    "forest.fit(X_train_std, y_train)\n",
    "y_train_pred = forest.predict(X_train_std)\n",
    "y_test_pred = forest.predict(X_test_std)\n",
    "\n",
    "# metrics\n",
    "from sklearn.metrics import r2_score\n",
    "from sklearn.metrics import mean_squared_error\n",
    "\n",
    "print('MSE train: %.3f, test: %.3f' % (\n",
    "        mean_squared_error(y_train, y_train_pred),\n",
    "        mean_squared_error(y_test, y_test_pred)))\n",
    "print('R^2 train: %.3f, test: %.3f' % (\n",
    "        r2_score(y_train, y_train_pred),\n",
    "        r2_score(y_test, y_test_pred)))"
   ]
  },
  {
   "cell_type": "code",
   "execution_count": 25,
   "metadata": {},
   "outputs": [
    {
     "data": {
      "image/png": "[encoded data removed]",
      "text/plain": [
       "<Figure size 432x288 with 1 Axes>"
      ]
     },
     "metadata": {
      "needs_background": "light"
     },
     "output_type": "display_data"
    }
   ],
   "source": [
    "# plotting a residual plot\n",
    "\n",
    "plt.scatter(y_train_pred,  \n",
    "            y_train_pred - y_train, \n",
    "            c='steelblue',\n",
    "            edgecolor='white',\n",
    "            marker='o', \n",
    "            s=35,\n",
    "            alpha=0.9,\n",
    "            label='Training data')\n",
    "plt.scatter(y_test_pred,  \n",
    "            y_test_pred - y_test, \n",
    "            c='limegreen',\n",
    "            edgecolor='white',\n",
    "            marker='s', \n",
    "            s=35,\n",
    "            alpha=0.9,\n",
    "            label='Test data')\n",
    "\n",
    "plt.xlabel('Predicted values')\n",
    "plt.ylabel('Residuals')\n",
    "plt.legend(loc='upper left')\n",
    "plt.hlines(y=0, xmin=-10, xmax=50, lw=2, color='black')\n",
    "plt.xlim([-10, 50])\n",
    "plt.tight_layout()\n",
    "\n",
    "#plt.savefig('images/10_15.png', dpi=300)\n",
    "plt.show()"
   ]
  },
  {
   "cell_type": "markdown",
   "metadata": {},
   "source": [
    "## Predicting the missing age data for the 'train' and 'test -datasets"
   ]
  },
  {
   "cell_type": "code",
   "execution_count": 26,
   "metadata": {},
   "outputs": [],
   "source": [
    "# predicting the missing age in the train-dataset and in the test-dataset\n",
    "\n",
    "# selecting the data\n",
    "X_train = train_no_age.loc[:, 'Pclass':'Fare'].values\n",
    "X_test = test_no_age.loc[:, 'Pclass':'Fare'].values\n",
    "\n",
    "# transforming it\n",
    "X_train_std = stdsc.fit_transform(X_train)\n",
    "X_test_std = stdsc.fit_transform(X_test)\n",
    "\n",
    "# making the prediction\n",
    "age_train = forest.predict(X_train_std)\n",
    "age_test = forest.predict(X_test_std)"
   ]
  },
  {
   "cell_type": "code",
   "execution_count": 27,
   "metadata": {},
   "outputs": [],
   "source": [
    "# adding the age column back to the train/test datasets\n",
    "\n",
    "# creating a new df for each dataset\n",
    "train_age_trained = train_no_age\n",
    "test_age_trained = test_no_age\n",
    "\n",
    "# adding the column to the new dataset\n",
    "train_age_trained['Age'] = age_train\n",
    "test_age_trained['Age'] = age_test"
   ]
  },
  {
   "cell_type": "code",
   "execution_count": 28,
   "metadata": {},
   "outputs": [
    {
     "data": {
      "text/html": [
       "<div>\n",
       "<style scoped>\n",
       "    .dataframe tbody tr th:only-of-type {\n",
       "        vertical-align: middle;\n",
       "    }\n",
       "\n",
       "    .dataframe tbody tr th {\n",
       "        vertical-align: top;\n",
       "    }\n",
       "\n",
       "    .dataframe thead th {\n",
       "        text-align: right;\n",
       "    }\n",
       "</style>\n",
       "<table border=\"1\" class=\"dataframe\">\n",
       "  <thead>\n",
       "    <tr style=\"text-align: right;\">\n",
       "      <th></th>\n",
       "      <th>Pclass</th>\n",
       "      <th>Sex</th>\n",
       "      <th>SibSp</th>\n",
       "      <th>Parch</th>\n",
       "      <th>Fare</th>\n",
       "      <th>Age</th>\n",
       "    </tr>\n",
       "    <tr>\n",
       "      <th>PassengerId</th>\n",
       "      <th></th>\n",
       "      <th></th>\n",
       "      <th></th>\n",
       "      <th></th>\n",
       "      <th></th>\n",
       "      <th></th>\n",
       "    </tr>\n",
       "  </thead>\n",
       "  <tbody>\n",
       "    <tr>\n",
       "      <th>902</th>\n",
       "      <td>3</td>\n",
       "      <td>1</td>\n",
       "      <td>0</td>\n",
       "      <td>0</td>\n",
       "      <td>7.8958</td>\n",
       "      <td>26.844969</td>\n",
       "    </tr>\n",
       "    <tr>\n",
       "      <th>914</th>\n",
       "      <td>1</td>\n",
       "      <td>0</td>\n",
       "      <td>0</td>\n",
       "      <td>0</td>\n",
       "      <td>31.6833</td>\n",
       "      <td>26.063767</td>\n",
       "    </tr>\n",
       "    <tr>\n",
       "      <th>921</th>\n",
       "      <td>3</td>\n",
       "      <td>1</td>\n",
       "      <td>2</td>\n",
       "      <td>0</td>\n",
       "      <td>21.6792</td>\n",
       "      <td>24.533863</td>\n",
       "    </tr>\n",
       "    <tr>\n",
       "      <th>925</th>\n",
       "      <td>3</td>\n",
       "      <td>0</td>\n",
       "      <td>1</td>\n",
       "      <td>2</td>\n",
       "      <td>23.4500</td>\n",
       "      <td>29.518695</td>\n",
       "    </tr>\n",
       "    <tr>\n",
       "      <th>928</th>\n",
       "      <td>3</td>\n",
       "      <td>0</td>\n",
       "      <td>0</td>\n",
       "      <td>0</td>\n",
       "      <td>8.0500</td>\n",
       "      <td>24.147016</td>\n",
       "    </tr>\n",
       "    <tr>\n",
       "      <th>...</th>\n",
       "      <td>...</td>\n",
       "      <td>...</td>\n",
       "      <td>...</td>\n",
       "      <td>...</td>\n",
       "      <td>...</td>\n",
       "      <td>...</td>\n",
       "    </tr>\n",
       "    <tr>\n",
       "      <th>1300</th>\n",
       "      <td>3</td>\n",
       "      <td>0</td>\n",
       "      <td>0</td>\n",
       "      <td>0</td>\n",
       "      <td>7.7208</td>\n",
       "      <td>37.392641</td>\n",
       "    </tr>\n",
       "    <tr>\n",
       "      <th>1302</th>\n",
       "      <td>3</td>\n",
       "      <td>0</td>\n",
       "      <td>0</td>\n",
       "      <td>0</td>\n",
       "      <td>7.7500</td>\n",
       "      <td>22.374829</td>\n",
       "    </tr>\n",
       "    <tr>\n",
       "      <th>1305</th>\n",
       "      <td>3</td>\n",
       "      <td>1</td>\n",
       "      <td>0</td>\n",
       "      <td>0</td>\n",
       "      <td>8.0500</td>\n",
       "      <td>23.720309</td>\n",
       "    </tr>\n",
       "    <tr>\n",
       "      <th>1308</th>\n",
       "      <td>3</td>\n",
       "      <td>1</td>\n",
       "      <td>0</td>\n",
       "      <td>0</td>\n",
       "      <td>8.0500</td>\n",
       "      <td>23.720309</td>\n",
       "    </tr>\n",
       "    <tr>\n",
       "      <th>1309</th>\n",
       "      <td>3</td>\n",
       "      <td>1</td>\n",
       "      <td>1</td>\n",
       "      <td>1</td>\n",
       "      <td>22.3583</td>\n",
       "      <td>34.078099</td>\n",
       "    </tr>\n",
       "  </tbody>\n",
       "</table>\n",
       "<p>86 rows × 6 columns</p>\n",
       "</div>"
      ],
      "text/plain": [
       "             Pclass  Sex  SibSp  Parch     Fare        Age\n",
       "PassengerId                                               \n",
       "902               3    1      0      0   7.8958  26.844969\n",
       "914               1    0      0      0  31.6833  26.063767\n",
       "921               3    1      2      0  21.6792  24.533863\n",
       "925               3    0      1      2  23.4500  29.518695\n",
       "928               3    0      0      0   8.0500  24.147016\n",
       "...             ...  ...    ...    ...      ...        ...\n",
       "1300              3    0      0      0   7.7208  37.392641\n",
       "1302              3    0      0      0   7.7500  22.374829\n",
       "1305              3    1      0      0   8.0500  23.720309\n",
       "1308              3    1      0      0   8.0500  23.720309\n",
       "1309              3    1      1      1  22.3583  34.078099\n",
       "\n",
       "[86 rows x 6 columns]"
      ]
     },
     "execution_count": 28,
     "metadata": {},
     "output_type": "execute_result"
    }
   ],
   "source": [
    "test_age_trained"
   ]
  },
  {
   "cell_type": "code",
   "execution_count": 29,
   "metadata": {},
   "outputs": [],
   "source": [
    "# combining original examples from the train dataset with age with those that were predicted\n",
    "\n",
    "frames_train = [train_age, train_age_trained]\n",
    "frames_test = [test_age, test_age_trained]\n",
    "\n",
    "titanic_train = pd.concat(frames_train)\n",
    "titanic_test = pd.concat(frames_test)\n",
    "\n",
    "# sorting by index\n",
    "titanic_train.sort_index(inplace=True)\n",
    "titanic_test.sort_index(inplace=True)"
   ]
  },
  {
   "cell_type": "code",
   "execution_count": 30,
   "metadata": {},
   "outputs": [
    {
     "data": {
      "text/html": [
       "<div>\n",
       "<style scoped>\n",
       "    .dataframe tbody tr th:only-of-type {\n",
       "        vertical-align: middle;\n",
       "    }\n",
       "\n",
       "    .dataframe tbody tr th {\n",
       "        vertical-align: top;\n",
       "    }\n",
       "\n",
       "    .dataframe thead th {\n",
       "        text-align: right;\n",
       "    }\n",
       "</style>\n",
       "<table border=\"1\" class=\"dataframe\">\n",
       "  <thead>\n",
       "    <tr style=\"text-align: right;\">\n",
       "      <th></th>\n",
       "      <th>Pclass</th>\n",
       "      <th>Sex</th>\n",
       "      <th>SibSp</th>\n",
       "      <th>Parch</th>\n",
       "      <th>Fare</th>\n",
       "      <th>Age</th>\n",
       "    </tr>\n",
       "    <tr>\n",
       "      <th>PassengerId</th>\n",
       "      <th></th>\n",
       "      <th></th>\n",
       "      <th></th>\n",
       "      <th></th>\n",
       "      <th></th>\n",
       "      <th></th>\n",
       "    </tr>\n",
       "  </thead>\n",
       "  <tbody>\n",
       "    <tr>\n",
       "      <th>892</th>\n",
       "      <td>3</td>\n",
       "      <td>1</td>\n",
       "      <td>0</td>\n",
       "      <td>0</td>\n",
       "      <td>7.8292</td>\n",
       "      <td>34.500000</td>\n",
       "    </tr>\n",
       "    <tr>\n",
       "      <th>893</th>\n",
       "      <td>3</td>\n",
       "      <td>0</td>\n",
       "      <td>1</td>\n",
       "      <td>0</td>\n",
       "      <td>7.0000</td>\n",
       "      <td>47.000000</td>\n",
       "    </tr>\n",
       "    <tr>\n",
       "      <th>894</th>\n",
       "      <td>2</td>\n",
       "      <td>1</td>\n",
       "      <td>0</td>\n",
       "      <td>0</td>\n",
       "      <td>9.6875</td>\n",
       "      <td>62.000000</td>\n",
       "    </tr>\n",
       "    <tr>\n",
       "      <th>895</th>\n",
       "      <td>3</td>\n",
       "      <td>1</td>\n",
       "      <td>0</td>\n",
       "      <td>0</td>\n",
       "      <td>8.6625</td>\n",
       "      <td>27.000000</td>\n",
       "    </tr>\n",
       "    <tr>\n",
       "      <th>896</th>\n",
       "      <td>3</td>\n",
       "      <td>0</td>\n",
       "      <td>1</td>\n",
       "      <td>1</td>\n",
       "      <td>12.2875</td>\n",
       "      <td>22.000000</td>\n",
       "    </tr>\n",
       "    <tr>\n",
       "      <th>...</th>\n",
       "      <td>...</td>\n",
       "      <td>...</td>\n",
       "      <td>...</td>\n",
       "      <td>...</td>\n",
       "      <td>...</td>\n",
       "      <td>...</td>\n",
       "    </tr>\n",
       "    <tr>\n",
       "      <th>1305</th>\n",
       "      <td>3</td>\n",
       "      <td>1</td>\n",
       "      <td>0</td>\n",
       "      <td>0</td>\n",
       "      <td>8.0500</td>\n",
       "      <td>23.720309</td>\n",
       "    </tr>\n",
       "    <tr>\n",
       "      <th>1306</th>\n",
       "      <td>1</td>\n",
       "      <td>0</td>\n",
       "      <td>0</td>\n",
       "      <td>0</td>\n",
       "      <td>108.9000</td>\n",
       "      <td>39.000000</td>\n",
       "    </tr>\n",
       "    <tr>\n",
       "      <th>1307</th>\n",
       "      <td>3</td>\n",
       "      <td>1</td>\n",
       "      <td>0</td>\n",
       "      <td>0</td>\n",
       "      <td>7.2500</td>\n",
       "      <td>38.500000</td>\n",
       "    </tr>\n",
       "    <tr>\n",
       "      <th>1308</th>\n",
       "      <td>3</td>\n",
       "      <td>1</td>\n",
       "      <td>0</td>\n",
       "      <td>0</td>\n",
       "      <td>8.0500</td>\n",
       "      <td>23.720309</td>\n",
       "    </tr>\n",
       "    <tr>\n",
       "      <th>1309</th>\n",
       "      <td>3</td>\n",
       "      <td>1</td>\n",
       "      <td>1</td>\n",
       "      <td>1</td>\n",
       "      <td>22.3583</td>\n",
       "      <td>34.078099</td>\n",
       "    </tr>\n",
       "  </tbody>\n",
       "</table>\n",
       "<p>417 rows × 6 columns</p>\n",
       "</div>"
      ],
      "text/plain": [
       "             Pclass  Sex  SibSp  Parch      Fare        Age\n",
       "PassengerId                                                \n",
       "892               3    1      0      0    7.8292  34.500000\n",
       "893               3    0      1      0    7.0000  47.000000\n",
       "894               2    1      0      0    9.6875  62.000000\n",
       "895               3    1      0      0    8.6625  27.000000\n",
       "896               3    0      1      1   12.2875  22.000000\n",
       "...             ...  ...    ...    ...       ...        ...\n",
       "1305              3    1      0      0    8.0500  23.720309\n",
       "1306              1    0      0      0  108.9000  39.000000\n",
       "1307              3    1      0      0    7.2500  38.500000\n",
       "1308              3    1      0      0    8.0500  23.720309\n",
       "1309              3    1      1      1   22.3583  34.078099\n",
       "\n",
       "[417 rows x 6 columns]"
      ]
     },
     "execution_count": 30,
     "metadata": {},
     "output_type": "execute_result"
    }
   ],
   "source": [
    "titanic_test"
   ]
  },
  {
   "cell_type": "markdown",
   "metadata": {},
   "source": [
    "# Training on part of the now completed train-dataset"
   ]
  },
  {
   "cell_type": "code",
   "execution_count": 31,
   "metadata": {},
   "outputs": [],
   "source": [
    "# partition the dataset into separate test and training datasets randomly\n",
    "from sklearn.model_selection import train_test_split\n",
    "\n",
    "# assign Numpy array representation of feature columns to variable X and of class labels of first column to variable y\n",
    "X, y = titanic_train.iloc[:, 1:].values, titanic_train.iloc[:, 0].values \n",
    "\n",
    "# splitting the data\n",
    "X_train, X_test, y_train, y_test =\\\n",
    "    train_test_split(X, y, \n",
    "                     test_size=0.3,  # set to 0.3 for 30% of examples to test, 70% to train \n",
    "                     random_state=0, \n",
    "                     stratify=y) # ensuring that both test and training dataset have same class proportions as orignal dataset"
   ]
  },
  {
   "cell_type": "code",
   "execution_count": 32,
   "metadata": {},
   "outputs": [
    {
     "name": "stdout",
     "output_type": "stream",
     "text": [
      "10-fold cross validation:\n",
      "\n",
      "ROC AUC: 0.85 (+/- 0.04) [Logistic regression]\n",
      "ROC AUC: 0.85 (+/- 0.05) [Decision tree]\n",
      "ROC AUC: 0.84 (+/- 0.05) [KNN]\n",
      "ROC AUC: 0.85 (+/- 0.04) [SVM]\n",
      "ROC AUC: 0.85 (+/- 0.05) [kernel SVM]\n",
      "ROC AUC: 0.85 (+/- 0.05) [Random Forest]\n"
     ]
    }
   ],
   "source": [
    "# fitting the entire model with ensemble\n",
    "\n",
    "# Implementing the MajorityVoteClassiefier in sklearn\n",
    "\n",
    "import numpy as np\n",
    "from sklearn.preprocessing import StandardScaler\n",
    "\n",
    "# classifiers\n",
    "from sklearn.linear_model import LogisticRegression\n",
    "from sklearn.tree import DecisionTreeClassifier\n",
    "from sklearn.neighbors import KNeighborsClassifier\n",
    "from sklearn.svm import SVC\n",
    "from sklearn.ensemble import RandomForestClassifier\n",
    "\n",
    "from sklearn.pipeline import Pipeline\n",
    "from sklearn.model_selection import cross_val_score\n",
    "\n",
    "# we train three different classifiers:\n",
    "\n",
    "clf1 = LogisticRegression(penalty='l2',    # alternatives 'l1' ,'l2'\n",
    "                          C=100,           # values from 0.001 to 100000 or higher\n",
    "                          solver='lbfgs',  # alternatives: 'newton-cg', 'lbfgs', 'liblinear', 'sag', 'saga'\n",
    "                                           # for multi-class multi_class='multinominal' or'ovr'\n",
    "                          random_state=1)\n",
    "\n",
    "clf2 = DecisionTreeClassifier(max_depth=3,\n",
    "                              criterion='entropy',\n",
    "                              random_state=0)\n",
    "\n",
    " \n",
    "clf3 = KNeighborsClassifier(n_neighbors=4,\n",
    "                            p=2, #p=2=Euclidean distance, p=1=Manhatten distance\n",
    "                            metric='minkowski')\n",
    "\n",
    "clf4 = SVC(kernel='linear', \n",
    "          C=0.01, # ROC can be uped to 0.85 with C=1000 here\n",
    "          random_state=1)\n",
    "\n",
    "clf5 = SVC(kernel='rbf',  # radial base function\n",
    "           random_state=1, \n",
    "           gamma=0.1, \n",
    "           C=0.001)  \n",
    "\n",
    "clf6 = RandomForestClassifier(criterion='gini', # Gini impurity measure to split the nodes\n",
    "                                n_estimators=25, # number of decision trees 25\n",
    "                                random_state=1,\n",
    "                                n_jobs=2) # using two cores of our computer (parallelizing the trainig)\n",
    "\n",
    "\n",
    "pipe1 = Pipeline([['sc', StandardScaler()],\n",
    "                  ['clf', clf1]])\n",
    "pipe3 = Pipeline([['sc', StandardScaler()],\n",
    "                  ['clf', clf3]])\n",
    "pipe4 = Pipeline([['sc', StandardScaler()],\n",
    "                  ['clf', clf4]])\n",
    "pipe5 = Pipeline([['sc', StandardScaler()],\n",
    "                  ['clf', clf5]])\n",
    "pipe6 = Pipeline([['sc', StandardScaler()],\n",
    "                  ['clf', clf5]])\n",
    "\n",
    "clf_labels = ['Logistic regression', 'Decision tree', 'KNN','SVM','kernel SVM','Random Forest']\n",
    "\n",
    "# we evaluate the model perforamce of each classifier via 10-fold cross-validation\n",
    "# on the training dataset:\n",
    "print('10-fold cross validation:\\n')\n",
    "for clf, label in zip([pipe1, clf2, pipe3, pipe4, pipe5, pipe6], clf_labels):\n",
    "    scores = cross_val_score(estimator=clf,\n",
    "                             X=X_train,\n",
    "                             y=y_train,\n",
    "                             cv=10,\n",
    "                             scoring='roc_auc')\n",
    "    print(\"ROC AUC: %0.2f (+/- %0.2f) [%s]\"\n",
    "          % (scores.mean(), scores.std(), label))"
   ]
  },
  {
   "cell_type": "code",
   "execution_count": 33,
   "metadata": {},
   "outputs": [
    {
     "data": {
      "image/png": "[encoded data removed]",
      "text/plain": [
       "<Figure size 180x180 with 1 Axes>"
      ]
     },
     "metadata": {
      "needs_background": "light"
     },
     "output_type": "display_data"
    },
    {
     "name": "stdout",
     "output_type": "stream",
     "text": [
      "Test accuracy: 0.832089552238806\n"
     ]
    }
   ],
   "source": [
    "# selecting a model of the ones above\n",
    "model = clf2\n",
    "\n",
    "# fitting the model\n",
    "model.fit(X_train, y_train)\n",
    "\n",
    "# Evaluating with a confusion matrix and measuring test accuracy\n",
    "\n",
    "from sklearn.metrics import confusion_matrix\n",
    "\n",
    "#lr.fit(X_train, y_train)\n",
    "y_pred = model.predict(X_test)\n",
    "confmat = confusion_matrix(y_true=y_test, y_pred=y_pred)\n",
    "#print(confmat)\n",
    "\n",
    "# plotting the confusion matrix for easier interpretation\n",
    "import matplotlib.pyplot as plt\n",
    "\n",
    "fig, ax = plt.subplots(figsize=(2.5, 2.5))\n",
    "ax.matshow(confmat, cmap=plt.cm.Blues, alpha=0.3)\n",
    "for i in range(confmat.shape[0]):\n",
    "    for j in range(confmat.shape[1]):\n",
    "        ax.text(x=j, y=i, s=confmat[i, j], va='center', ha='center')\n",
    "\n",
    "plt.xlabel('Predicted label')\n",
    "plt.ylabel('True label')\n",
    "\n",
    "plt.tight_layout()\n",
    "#plt.savefig('images/06_09.png', dpi=300)\n",
    "plt.show()\n",
    "# display test accuracy\n",
    "print('Test accuracy:', model.score(X_test, y_test))"
   ]
  },
  {
   "cell_type": "markdown",
   "metadata": {},
   "source": [
    "# Training the model on the entire train-dataset"
   ]
  },
  {
   "cell_type": "code",
   "execution_count": 34,
   "metadata": {},
   "outputs": [
    {
     "data": {
      "text/plain": [
       "DecisionTreeClassifier(criterion='entropy', max_depth=3, random_state=0)"
      ]
     },
     "execution_count": 34,
     "metadata": {},
     "output_type": "execute_result"
    }
   ],
   "source": [
    "# splitting the data\n",
    "X_train, X_test, y_train, y_test =\\\n",
    "    train_test_split(X, y, \n",
    "                     test_size=0.01,  \n",
    "                     random_state=0) # ensuring that both test and training dataset have same class proportions as orignal dataset\n",
    "\n",
    "# fitting the model to all the training data\n",
    "model.fit(X_train, y_train)"
   ]
  },
  {
   "cell_type": "markdown",
   "metadata": {},
   "source": [
    "# Making predictions for test data"
   ]
  },
  {
   "cell_type": "code",
   "execution_count": 35,
   "metadata": {},
   "outputs": [
    {
     "data": {
      "text/html": [
       "<div>\n",
       "<style scoped>\n",
       "    .dataframe tbody tr th:only-of-type {\n",
       "        vertical-align: middle;\n",
       "    }\n",
       "\n",
       "    .dataframe tbody tr th {\n",
       "        vertical-align: top;\n",
       "    }\n",
       "\n",
       "    .dataframe thead th {\n",
       "        text-align: right;\n",
       "    }\n",
       "</style>\n",
       "<table border=\"1\" class=\"dataframe\">\n",
       "  <thead>\n",
       "    <tr style=\"text-align: right;\">\n",
       "      <th></th>\n",
       "      <th>Pclass</th>\n",
       "      <th>Sex</th>\n",
       "      <th>SibSp</th>\n",
       "      <th>Parch</th>\n",
       "      <th>Fare</th>\n",
       "      <th>Age</th>\n",
       "    </tr>\n",
       "    <tr>\n",
       "      <th>PassengerId</th>\n",
       "      <th></th>\n",
       "      <th></th>\n",
       "      <th></th>\n",
       "      <th></th>\n",
       "      <th></th>\n",
       "      <th></th>\n",
       "    </tr>\n",
       "  </thead>\n",
       "  <tbody>\n",
       "    <tr>\n",
       "      <th>892</th>\n",
       "      <td>3</td>\n",
       "      <td>1</td>\n",
       "      <td>0</td>\n",
       "      <td>0</td>\n",
       "      <td>7.8292</td>\n",
       "      <td>34.500000</td>\n",
       "    </tr>\n",
       "    <tr>\n",
       "      <th>893</th>\n",
       "      <td>3</td>\n",
       "      <td>0</td>\n",
       "      <td>1</td>\n",
       "      <td>0</td>\n",
       "      <td>7.0000</td>\n",
       "      <td>47.000000</td>\n",
       "    </tr>\n",
       "    <tr>\n",
       "      <th>894</th>\n",
       "      <td>2</td>\n",
       "      <td>1</td>\n",
       "      <td>0</td>\n",
       "      <td>0</td>\n",
       "      <td>9.6875</td>\n",
       "      <td>62.000000</td>\n",
       "    </tr>\n",
       "    <tr>\n",
       "      <th>895</th>\n",
       "      <td>3</td>\n",
       "      <td>1</td>\n",
       "      <td>0</td>\n",
       "      <td>0</td>\n",
       "      <td>8.6625</td>\n",
       "      <td>27.000000</td>\n",
       "    </tr>\n",
       "    <tr>\n",
       "      <th>896</th>\n",
       "      <td>3</td>\n",
       "      <td>0</td>\n",
       "      <td>1</td>\n",
       "      <td>1</td>\n",
       "      <td>12.2875</td>\n",
       "      <td>22.000000</td>\n",
       "    </tr>\n",
       "    <tr>\n",
       "      <th>...</th>\n",
       "      <td>...</td>\n",
       "      <td>...</td>\n",
       "      <td>...</td>\n",
       "      <td>...</td>\n",
       "      <td>...</td>\n",
       "      <td>...</td>\n",
       "    </tr>\n",
       "    <tr>\n",
       "      <th>1305</th>\n",
       "      <td>3</td>\n",
       "      <td>1</td>\n",
       "      <td>0</td>\n",
       "      <td>0</td>\n",
       "      <td>8.0500</td>\n",
       "      <td>23.720309</td>\n",
       "    </tr>\n",
       "    <tr>\n",
       "      <th>1306</th>\n",
       "      <td>1</td>\n",
       "      <td>0</td>\n",
       "      <td>0</td>\n",
       "      <td>0</td>\n",
       "      <td>108.9000</td>\n",
       "      <td>39.000000</td>\n",
       "    </tr>\n",
       "    <tr>\n",
       "      <th>1307</th>\n",
       "      <td>3</td>\n",
       "      <td>1</td>\n",
       "      <td>0</td>\n",
       "      <td>0</td>\n",
       "      <td>7.2500</td>\n",
       "      <td>38.500000</td>\n",
       "    </tr>\n",
       "    <tr>\n",
       "      <th>1308</th>\n",
       "      <td>3</td>\n",
       "      <td>1</td>\n",
       "      <td>0</td>\n",
       "      <td>0</td>\n",
       "      <td>8.0500</td>\n",
       "      <td>23.720309</td>\n",
       "    </tr>\n",
       "    <tr>\n",
       "      <th>1309</th>\n",
       "      <td>3</td>\n",
       "      <td>1</td>\n",
       "      <td>1</td>\n",
       "      <td>1</td>\n",
       "      <td>22.3583</td>\n",
       "      <td>34.078099</td>\n",
       "    </tr>\n",
       "  </tbody>\n",
       "</table>\n",
       "<p>417 rows × 6 columns</p>\n",
       "</div>"
      ],
      "text/plain": [
       "             Pclass  Sex  SibSp  Parch      Fare        Age\n",
       "PassengerId                                                \n",
       "892               3    1      0      0    7.8292  34.500000\n",
       "893               3    0      1      0    7.0000  47.000000\n",
       "894               2    1      0      0    9.6875  62.000000\n",
       "895               3    1      0      0    8.6625  27.000000\n",
       "896               3    0      1      1   12.2875  22.000000\n",
       "...             ...  ...    ...    ...       ...        ...\n",
       "1305              3    1      0      0    8.0500  23.720309\n",
       "1306              1    0      0      0  108.9000  39.000000\n",
       "1307              3    1      0      0    7.2500  38.500000\n",
       "1308              3    1      0      0    8.0500  23.720309\n",
       "1309              3    1      1      1   22.3583  34.078099\n",
       "\n",
       "[417 rows x 6 columns]"
      ]
     },
     "execution_count": 35,
     "metadata": {},
     "output_type": "execute_result"
    }
   ],
   "source": [
    "titanic_test"
   ]
  },
  {
   "cell_type": "code",
   "execution_count": 36,
   "metadata": {},
   "outputs": [],
   "source": [
    "# using the previously established model to predict the age\n",
    "\n",
    "# assign Numpy array representation of feature columns to variable X and of class labels of first column to variable y\n",
    "X = titanic_test.iloc[:,:].values\n",
    "\n",
    "# making the predictions\n",
    "y_pred = model.predict(X)"
   ]
  },
  {
   "cell_type": "code",
   "execution_count": 37,
   "metadata": {},
   "outputs": [],
   "source": [
    "# creating a new df for the result\n",
    "titanic_result = titanic_test\n",
    "\n",
    "# adding the predictions\n",
    "titanic_result['Survived'] = y_pred\n",
    "\n",
    "# adding the example with 'no fare' \n",
    "frames = [titanic_result, test_no_fare]\n",
    "result = pd.concat(frames)\n",
    "\n",
    "# sorting by index\n",
    "result.sort_index(inplace=True)\n",
    "\n",
    "# preparing for submission\n",
    "submission = result['Survived']\n",
    "submission.to_csv(\"submission.csv\")"
   ]
  },
  {
   "cell_type": "markdown",
   "metadata": {},
   "source": [
    "submitted :)"
   ]
  },
  {
   "cell_type": "markdown",
   "metadata": {},
   "source": [
    "Score: 0.78468"
   ]
  },
  {
   "cell_type": "code",
   "execution_count": 38,
   "metadata": {},
   "outputs": [
    {
     "data": {
      "text/plain": [
       "PassengerId\n",
       "892    0\n",
       "893    1\n",
       "894    0\n",
       "895    0\n",
       "896    1\n",
       "897    0\n",
       "898    1\n",
       "899    0\n",
       "900    1\n",
       "901    0\n",
       "902    0\n",
       "903    0\n",
       "904    1\n",
       "905    0\n",
       "906    1\n",
       "907    1\n",
       "908    0\n",
       "909    0\n",
       "910    1\n",
       "911    1\n",
       "912    0\n",
       "913    1\n",
       "914    1\n",
       "915    0\n",
       "916    1\n",
       "917    0\n",
       "918    1\n",
       "919    0\n",
       "920    0\n",
       "921    0\n",
       "Name: Survived, dtype: int64"
      ]
     },
     "execution_count": 38,
     "metadata": {},
     "output_type": "execute_result"
    }
   ],
   "source": [
    "submission.head(30)"
   ]
  },
  {
   "cell_type": "code",
   "execution_count": null,
   "metadata": {},
   "outputs": [],
   "source": []
  }
 ],
 "metadata": {
  "kernelspec": {
   "display_name": "Python 3",
   "language": "python",
   "name": "python3"
  },
  "language_info": {
   "codemirror_mode": {
    "name": "ipython",
    "version": 3
   },
   "file_extension": ".py",
   "mimetype": "text/x-python",
   "name": "python",
   "nbconvert_exporter": "python",
   "pygments_lexer": "ipython3",
   "version": "3.7.5"
  },
  "toc-autonumbering": true
 },
 "nbformat": 4,
 "nbformat_minor": 4
}
